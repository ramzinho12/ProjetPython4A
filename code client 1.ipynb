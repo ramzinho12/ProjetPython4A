{
 "cells": [
  {
   "cell_type": "markdown",
   "metadata": {},
   "source": [
    "code client"
   ]
  },
  {
   "cell_type": "code",
   "execution_count": 1,
   "metadata": {},
   "outputs": [],
   "source": [
    "import socket\n",
    "import subprocess\n",
    "\n",
    "def main_client():\n",
    "    client = socket.socket(socket.AF_INET, socket.SOCK_STREAM)\n",
    "    client.connect(('127.0.0.1', 5555))\n",
    "\n",
    "    game_code = client.recv(4096).decode('utf-8')\n",
    "\n",
    "    run_game_code(game_code)\n",
    "\n",
    "def run_game_code(game_code):\n",
    "    subprocess.run(['python', '-c', game_code])\n",
    "\n",
    "if __name__ == \"__main__\":\n",
    "    main_client()\n"
   ]
  }
 ],
 "metadata": {
  "kernelspec": {
   "display_name": "base",
   "language": "python",
   "name": "python3"
  },
  "language_info": {
   "codemirror_mode": {
    "name": "ipython",
    "version": 3
   },
   "file_extension": ".py",
   "mimetype": "text/x-python",
   "name": "python",
   "nbconvert_exporter": "python",
   "pygments_lexer": "ipython3",
   "version": "3.9.13"
  }
 },
 "nbformat": 4,
 "nbformat_minor": 2
}
