{
 "cells": [
  {
   "cell_type": "markdown",
   "metadata": {},
   "source": [
    "code serveur\n"
   ]
  },
  {
   "cell_type": "code",
   "execution_count": 1,
   "metadata": {},
   "outputs": [
    {
     "name": "stdout",
     "output_type": "stream",
     "text": [
      "Attente des connexions des joueurs...\n",
      "Connexion établie avec ('127.0.0.1', 50658)\n",
      "Connexion établie avec ('127.0.0.1', 50661)\n"
     ]
    }
   ],
   "source": [
    "import socket\n",
    "import threading\n",
    "import subprocess\n",
    "\n",
    "def handle_client(client_socket, player_id):\n",
    "    game_code = get_game_code()\n",
    "\n",
    "    # Exécuter le code du jeu localement\n",
    "    run_game_code(game_code)\n",
    "\n",
    "def get_game_code():\n",
    "    with open(\"game_code.py\", \"r\") as file:\n",
    "        game_code = file.read()\n",
    "    return game_code\n",
    "\n",
    "def run_game_code(game_code):\n",
    "    subprocess.run(['python', '-c', game_code])\n",
    "\n",
    "def main_server():\n",
    "    server = socket.socket(socket.AF_INET, socket.SOCK_STREAM)\n",
    "    server.bind(('0.0.0.0', 5555))\n",
    "    server.listen(2)\n",
    "\n",
    "    print(\"Attente des connexions des joueurs...\")\n",
    "    player_id = 1\n",
    "\n",
    "    while True:\n",
    "        client, addr = server.accept()\n",
    "        print(f\"Connexion établie avec {addr}\")\n",
    "\n",
    "        client_handler = threading.Thread(target=handle_client, args=(client, player_id))\n",
    "        client_handler.start()\n",
    "\n",
    "        player_id += 1\n",
    "\n",
    "if __name__ == \"__main__\":\n",
    "    main_server()\n"
   ]
  }
 ],
 "metadata": {
  "kernelspec": {
   "display_name": "base",
   "language": "python",
   "name": "python3"
  },
  "language_info": {
   "codemirror_mode": {
    "name": "ipython",
    "version": 3
   },
   "file_extension": ".py",
   "mimetype": "text/x-python",
   "name": "python",
   "nbconvert_exporter": "python",
   "pygments_lexer": "ipython3",
   "version": "3.9.13"
  }
 },
 "nbformat": 4,
 "nbformat_minor": 2
}
